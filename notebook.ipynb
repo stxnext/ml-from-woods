{
 "cells": [
  {
   "cell_type": "markdown",
   "metadata": {},
   "source": [
    "![](https://upload.wikimedia.org/wikipedia/commons/3/38/Forest_panorama_2.jpg \"Machine learning from woods - exploring tree-based ensemble models\")"
   ]
  },
  {
   "cell_type": "markdown",
   "metadata": {},
   "source": [
    "# Machine Learning from the Woods: Exploring Tree-Based Ensemble Models in Python"
   ]
  },
  {
   "cell_type": "markdown",
   "metadata": {},
   "source": [
    "### Intro"
   ]
  },
  {
   "cell_type": "markdown",
   "metadata": {},
   "source": [
    "Python is a hot topic right now. So is machine learning. And ensemble models.\n",
    "\n",
    "Put the three together, and you have a mighty combination of powerful technologies.\n",
    "\n",
    "**This article provides an extensive overview of tree-based ensemble models and the many applications of Python in machine learning. Read on to learn why these models are the perfect solution for numerous machine learning problems.**\n",
    "\n",
    "Here’s what we’re going to cover:\n",
    "\n",
    "* **First, I’ll give you some basic theory behind three ensemble models: random forests, AdaBoost, and gradient tree boosting.**\n",
    "* **Next, I’ll teach you how to implement those ensemble models using one of [the most popular Python libraries](https://stxnext.com/blog/2017/04/12/most-popular-python-scientific-libraries/) for machine learning: scikit-learn.**\n",
    "* **Lastly, I’ll show you how to improve the out-of-the-box performance of your ensemble models.**\n",
    "\n",
    "Even though they are relatively easy to understand, ensemble models are the winning algorithms in plenty of data science competitions (organized by Kaggle or DrivenData, just to name a few). What’s more, they usually don’t require large clusters of GPU-accelerated machines to achieve reasonable results.\n",
    "\n",
    "You don’t need to be a machine learning expert or a math genius to understand this text. The general idea behind ensemble models is really simple—[even pigeons could understand it!](https://www.theguardian.com/society/2015/nov/19/pigeons-can-identify-cancerous-tissue-on-x-rays-study-finds) \n",
    "\n",
    "Here’s a recipe: get a set of models, aggregate their predictions, and that’s it, you’re good to go!\n",
    "\n",
    "There are, of course, many tricks to getting the best results from ensembles, and we’ll discuss those later. Also, I will be getting quite technical most of the time, so it would be easier if you were familiar with at least some of the core principles behind supervised learning. But for now, you have everything you need.\n",
    "\n",
    "One last thing you might be wondering and I’d like to address before we begin: what’s up with that title?\n",
    "\n",
    "“Machine learning from the woods?” Why “woods”? Follow-up question: what does it mean that the models are “tree-based”?\n",
    "\n",
    "Well, as it turns out, the most commonly used algorithms to combine into ensembles are decision trees. Get it?\n",
    "\n",
    "Note: this article is available in two versions: here and on the [STX Blog](https://stxnext.com/blog/2018/09/04/machine-learning-ensemble-models-python/)."
   ]
  },
  {
   "cell_type": "markdown",
   "metadata": {},
   "source": [
    "### ML Background"
   ]
  },
  {
   "cell_type": "markdown",
   "metadata": {},
   "source": [
    "I’ll start by briefly introducing two crucial concepts: **bias and variance.** They describe the dependency between model complexity and data.\n",
    "\n",
    "High bias means your model is too general and ignores many important patterns. Conversely, high variance occurs when a model “focuses” on cosmetic details too much, losing sight of the big picture, data-wise. **Finding an optimal model is always a trade-off between bias and variance.**\n",
    "\n",
    "In the following sections, we will solve the **classification problem**. This means we’ll assign a label to an observation class, based on certain features that describe it.\n",
    "\n",
    "In our case, the observation is a person applying for a credit card. That person is described by age, income, and number of children, among others—all of these are our features. We will build a model that decides whether that person should receive a credit card based on the specified features. To put it another way: we’ll give the class an “accepted” or “rejected” label.\n",
    "\n",
    "Without further ado—before we dive into the workings of random forests, AdaBoost, and gradient tree boosting—let’s spend a minute talking about **their building blocks: decision trees.**"
   ]
  },
  {
   "cell_type": "markdown",
   "metadata": {},
   "source": [
    "### Decision Trees"
   ]
  },
  {
   "cell_type": "markdown",
   "metadata": {},
   "source": [
    "Simply put, **decision trees are models built with a set of Boolean conditions, defined by data features** (e.g. “if the age is less than 18”). These conditions are presented in the form of a binary tree.\n",
    "\n",
    "To train a decision tree means to locate these conditions (decision boundaries) using given [criteria](http://scikit-learn.org/stable/modules/tree.html#classification-criteria). Let’s look at a sample tree to show how these boundaries interact with each other.\n",
    "\n",
    "We’ll create a simple dataset, where each of 100 samples is defined by only two features (dimensions): X and Y. There will be three classes: “red”, “green,” and “blue.”\n",
    "\n",
    "The `make_blobs` function from the scikit-learn library makes the job easy for us."
   ]
  },
  {
   "cell_type": "code",
   "execution_count": 1,
   "metadata": {},
   "outputs": [
    {
     "data": {
      "image/png": "[encoded data removed]",
      "text/plain": [
       "<Figure size 432x288 with 1 Axes>"
      ]
     },
     "metadata": {},
     "output_type": "display_data"
    }
   ],
   "source": [
    "import matplotlib.pyplot as plt\n",
    "\n",
    "from sklearn.datasets import make_blobs\n",
    "\n",
    "%matplotlib inline\n",
    "\n",
    "RANDOM_STATE = 0  # Ensure repeatability when using randomness\n",
    "COLORS = [\"red\", \"green\", \"blue\"]\n",
    "FEATURES_NAMES = [\"X\", \"Y\"]\n",
    "\n",
    "features, labels = make_blobs(\n",
    "    centers=[(-4, 4), (0, -4), (4, 4)],\n",
    "    random_state=RANDOM_STATE\n",
    ")\n",
    "labels_colors = [COLORS[label] for label in labels]\n",
    "\n",
    "plt.scatter(features[:, 0], features[:, 1], c=labels_colors)\n",
    "plt.xlabel(FEATURES_NAMES[0])\n",
    "plt.ylabel(FEATURES_NAMES[1])\n",
    "plt.show()"
   ]
  },
  {
   "cell_type": "markdown",
   "metadata": {},
   "source": [
    "Then, we can create our tree classifier.\n",
    "\n",
    "All scikit-learn's models share the same API for training: `fit(features, labels)`."
   ]
  },
  {
   "cell_type": "code",
   "execution_count": 2,
   "metadata": {},
   "outputs": [
    {
     "data": {
      "text/plain": [
       "DecisionTreeClassifier(class_weight=None, criterion='gini', max_depth=None,\n",
       "            max_features=None, max_leaf_nodes=None,\n",
       "            min_impurity_decrease=0.0, min_impurity_split=None,\n",
       "            min_samples_leaf=1, min_samples_split=2,\n",
       "            min_weight_fraction_leaf=0.0, presort=False, random_state=None,\n",
       "            splitter='best')"
      ]
     },
     "execution_count": 2,
     "metadata": {},
     "output_type": "execute_result"
    }
   ],
   "source": [
    "from sklearn.tree import DecisionTreeClassifier\n",
    "\n",
    "decision_tree = DecisionTreeClassifier()\n",
    "decision_tree.fit(features, labels)"
   ]
  },
  {
   "cell_type": "markdown",
   "metadata": {},
   "source": [
    "Finally, we will use graphviz library to investigate the structure of out tree classifier."
   ]
  },
  {
   "cell_type": "code",
   "execution_count": 3,
   "metadata": {},
   "outputs": [
    {
     "data": {
      "image/svg+xml": [
       "<?xml version=\"1.0\" encoding=\"UTF-8\" standalone=\"no\"?>\n",
       "<!DOCTYPE svg PUBLIC \"-//W3C//DTD SVG 1.1//EN\"\n",
       " \"http://www.w3.org/Graphics/SVG/1.1/DTD/svg11.dtd\">\n",
       "<!-- Generated by graphviz version 2.38.0 (20140413.2041)\n",
       " -->\n",
       "<!-- Title: Tree Pages: 1 -->\n",
       "<svg width=\"331pt\" height=\"269pt\"\n",
       " viewBox=\"0.00 0.00 331.00 269.00\" xmlns=\"http://www.w3.org/2000/svg\" xmlns:xlink=\"http://www.w3.org/1999/xlink\">\n",
       "<g id=\"graph0\" class=\"graph\" transform=\"scale(1 1) rotate(0) translate(4 265)\">\n",
       "<title>Tree</title>\n",
       "<polygon fill=\"white\" stroke=\"none\" points=\"-4,4 -4,-265 327,-265 327,4 -4,4\"/>\n",
       "<!-- 0 -->\n",
       "<g id=\"node1\" class=\"node\"><title>0</title>\n",
       "<path fill=\"#e58139\" fill-opacity=\"0.015686\" stroke=\"black\" d=\"M181.5,-261C181.5,-261 73.5,-261 73.5,-261 67.5,-261 61.5,-255 61.5,-249 61.5,-249 61.5,-205 61.5,-205 61.5,-199 67.5,-193 73.5,-193 73.5,-193 181.5,-193 181.5,-193 187.5,-193 193.5,-199 193.5,-205 193.5,-205 193.5,-249 193.5,-249 193.5,-255 187.5,-261 181.5,-261\"/>\n",
       "<text text-anchor=\"middle\" x=\"127.5\" y=\"-245.8\" font-family=\"Helvetica,sans-Serif\" font-size=\"14.00\">X &lt;= &#45;1.5</text>\n",
       "<text text-anchor=\"middle\" x=\"127.5\" y=\"-230.8\" font-family=\"Helvetica,sans-Serif\" font-size=\"14.00\">samples = 100</text>\n",
       "<text text-anchor=\"middle\" x=\"127.5\" y=\"-215.8\" font-family=\"Helvetica,sans-Serif\" font-size=\"14.00\">value = [34, 33, 33]</text>\n",
       "<text text-anchor=\"middle\" x=\"127.5\" y=\"-200.8\" font-family=\"Helvetica,sans-Serif\" font-size=\"14.00\">class = red</text>\n",
       "</g>\n",
       "<!-- 1 -->\n",
       "<g id=\"node2\" class=\"node\"><title>1</title>\n",
       "<path fill=\"#e58139\" stroke=\"black\" d=\"M105,-149.5C105,-149.5 12,-149.5 12,-149.5 6,-149.5 -7.10543e-15,-143.5 -7.10543e-15,-137.5 -7.10543e-15,-137.5 -7.10543e-15,-108.5 -7.10543e-15,-108.5 -7.10543e-15,-102.5 6,-96.5 12,-96.5 12,-96.5 105,-96.5 105,-96.5 111,-96.5 117,-102.5 117,-108.5 117,-108.5 117,-137.5 117,-137.5 117,-143.5 111,-149.5 105,-149.5\"/>\n",
       "<text text-anchor=\"middle\" x=\"58.5\" y=\"-134.3\" font-family=\"Helvetica,sans-Serif\" font-size=\"14.00\">samples = 34</text>\n",
       "<text text-anchor=\"middle\" x=\"58.5\" y=\"-119.3\" font-family=\"Helvetica,sans-Serif\" font-size=\"14.00\">value = [34, 0, 0]</text>\n",
       "<text text-anchor=\"middle\" x=\"58.5\" y=\"-104.3\" font-family=\"Helvetica,sans-Serif\" font-size=\"14.00\">class = red</text>\n",
       "</g>\n",
       "<!-- 0&#45;&gt;1 -->\n",
       "<g id=\"edge1\" class=\"edge\"><title>0&#45;&gt;1</title>\n",
       "<path fill=\"none\" stroke=\"black\" d=\"M105.098,-192.884C97.5091,-181.666 89.0265,-169.126 81.3998,-157.852\"/>\n",
       "<polygon fill=\"black\" stroke=\"black\" points=\"84.2656,-155.842 75.7635,-149.52 78.4676,-159.764 84.2656,-155.842\"/>\n",
       "<text text-anchor=\"middle\" x=\"71.0263\" y=\"-170.367\" font-family=\"Helvetica,sans-Serif\" font-size=\"14.00\">True</text>\n",
       "</g>\n",
       "<!-- 2 -->\n",
       "<g id=\"node3\" class=\"node\"><title>2</title>\n",
       "<path fill=\"none\" stroke=\"black\" d=\"M248,-157C248,-157 147,-157 147,-157 141,-157 135,-151 135,-145 135,-145 135,-101 135,-101 135,-95 141,-89 147,-89 147,-89 248,-89 248,-89 254,-89 260,-95 260,-101 260,-101 260,-145 260,-145 260,-151 254,-157 248,-157\"/>\n",
       "<text text-anchor=\"middle\" x=\"197.5\" y=\"-141.8\" font-family=\"Helvetica,sans-Serif\" font-size=\"14.00\">X &lt;= 2.216</text>\n",
       "<text text-anchor=\"middle\" x=\"197.5\" y=\"-126.8\" font-family=\"Helvetica,sans-Serif\" font-size=\"14.00\">samples = 66</text>\n",
       "<text text-anchor=\"middle\" x=\"197.5\" y=\"-111.8\" font-family=\"Helvetica,sans-Serif\" font-size=\"14.00\">value = [0, 33, 33]</text>\n",
       "<text text-anchor=\"middle\" x=\"197.5\" y=\"-96.8\" font-family=\"Helvetica,sans-Serif\" font-size=\"14.00\">class = green</text>\n",
       "</g>\n",
       "<!-- 0&#45;&gt;2 -->\n",
       "<g id=\"edge2\" class=\"edge\"><title>0&#45;&gt;2</title>\n",
       "<path fill=\"none\" stroke=\"black\" d=\"M150.227,-192.884C156.157,-184.243 162.624,-174.819 168.819,-165.793\"/>\n",
       "<polygon fill=\"black\" stroke=\"black\" points=\"171.875,-167.525 174.647,-157.299 166.103,-163.564 171.875,-167.525\"/>\n",
       "<text text-anchor=\"middle\" x=\"179.22\" y=\"-178.178\" font-family=\"Helvetica,sans-Serif\" font-size=\"14.00\">False</text>\n",
       "</g>\n",
       "<!-- 3 -->\n",
       "<g id=\"node4\" class=\"node\"><title>3</title>\n",
       "<path fill=\"#39e581\" stroke=\"black\" d=\"M176,-53C176,-53 83,-53 83,-53 77,-53 71,-47 71,-41 71,-41 71,-12 71,-12 71,-6 77,-0 83,-0 83,-0 176,-0 176,-0 182,-0 188,-6 188,-12 188,-12 188,-41 188,-41 188,-47 182,-53 176,-53\"/>\n",
       "<text text-anchor=\"middle\" x=\"129.5\" y=\"-37.8\" font-family=\"Helvetica,sans-Serif\" font-size=\"14.00\">samples = 33</text>\n",
       "<text text-anchor=\"middle\" x=\"129.5\" y=\"-22.8\" font-family=\"Helvetica,sans-Serif\" font-size=\"14.00\">value = [0, 33, 0]</text>\n",
       "<text text-anchor=\"middle\" x=\"129.5\" y=\"-7.8\" font-family=\"Helvetica,sans-Serif\" font-size=\"14.00\">class = green</text>\n",
       "</g>\n",
       "<!-- 2&#45;&gt;3 -->\n",
       "<g id=\"edge3\" class=\"edge\"><title>2&#45;&gt;3</title>\n",
       "<path fill=\"none\" stroke=\"black\" d=\"M173.717,-88.9485C167.332,-80.0749 160.416,-70.4648 153.993,-61.5388\"/>\n",
       "<polygon fill=\"black\" stroke=\"black\" points=\"156.701,-59.3094 148.02,-53.2367 151.019,-63.398 156.701,-59.3094\"/>\n",
       "</g>\n",
       "<!-- 4 -->\n",
       "<g id=\"node5\" class=\"node\"><title>4</title>\n",
       "<path fill=\"#8139e5\" stroke=\"black\" d=\"M311,-53C311,-53 218,-53 218,-53 212,-53 206,-47 206,-41 206,-41 206,-12 206,-12 206,-6 212,-0 218,-0 218,-0 311,-0 311,-0 317,-0 323,-6 323,-12 323,-12 323,-41 323,-41 323,-47 317,-53 311,-53\"/>\n",
       "<text text-anchor=\"middle\" x=\"264.5\" y=\"-37.8\" font-family=\"Helvetica,sans-Serif\" font-size=\"14.00\">samples = 33</text>\n",
       "<text text-anchor=\"middle\" x=\"264.5\" y=\"-22.8\" font-family=\"Helvetica,sans-Serif\" font-size=\"14.00\">value = [0, 0, 33]</text>\n",
       "<text text-anchor=\"middle\" x=\"264.5\" y=\"-7.8\" font-family=\"Helvetica,sans-Serif\" font-size=\"14.00\">class = blue</text>\n",
       "</g>\n",
       "<!-- 2&#45;&gt;4 -->\n",
       "<g id=\"edge4\" class=\"edge\"><title>2&#45;&gt;4</title>\n",
       "<path fill=\"none\" stroke=\"black\" d=\"M220.933,-88.9485C227.225,-80.0749 234.038,-70.4648 240.367,-61.5388\"/>\n",
       "<polygon fill=\"black\" stroke=\"black\" points=\"243.324,-63.4188 246.253,-53.2367 237.614,-59.3701 243.324,-63.4188\"/>\n",
       "</g>\n",
       "</g>\n",
       "</svg>\n"
      ],
      "text/plain": [
       "<graphviz.files.Source at 0x7f701837cc50>"
      ]
     },
     "execution_count": 3,
     "metadata": {},
     "output_type": "execute_result"
    }
   ],
   "source": [
    "import graphviz\n",
    "from sklearn.tree import export_graphviz\n",
    "\n",
    "tree_data = export_graphviz(\n",
    "    decision_tree=decision_tree,\n",
    "    out_file=None,\n",
    "    feature_names=FEATURES_NAMES,\n",
    "    class_names=COLORS,\n",
    "    rounded=True,\n",
    "    filled=True,\n",
    "    impurity=False\n",
    ")\n",
    "tree_graph = graphviz.Source(tree_data)\n",
    "tree_graph"
   ]
  },
  {
   "cell_type": "markdown",
   "metadata": {},
   "source": [
    "The first row in the node describes the decision boundary and isn’t present in the leaves, since they do not split.\n",
    "\n",
    "The next one is the number of samples falling into that node, followed by sample distribution between classes.\n",
    "\n",
    "The last one is the most common class in the node, which in the leaves is interpreted as the tree output label.\n",
    "\n",
    "As you can see, decision trees handled this little example well; in fact, they can deal with many real-life problems. What is more, the models are **interpretable** and **easy to visualize.**\n",
    "\n",
    "Decision trees also don’t require a whole lot of data preprocessing. For example, you don’t need to scale the data, because the trees won’t care about feature magnitude to find the decision boundary.\n",
    "\n",
    "In addition, **decision trees can handle both numerical and categorical data,** although they are quite prone to overfitting, meaning they are high-variance models.\n",
    "\n",
    "As a result, small changes to the training set can result in major decision boundary shifts. One of the most successful ways to solve this issue is to use many trees to make decisions.\n",
    "\n",
    "Here’s what’d like you to remember from this section the most: **if you answer plenty of small yes/no questions, the decision tree will tell you the truth.**"
   ]
  },
  {
   "cell_type": "markdown",
   "metadata": {},
   "source": [
    "### Random Forest"
   ]
  },
  {
   "cell_type": "markdown",
   "metadata": {},
   "source": [
    "You may be asking yourself: **how can using many overfitted models decrease classifier error?** Well, let me try and answer that for you.\n",
    "\n",
    "Overfitted trees make decisions based on some generally uncommon observations. However, they still hold valuable data insights.\n",
    "\n",
    "When using a large number of such trees, the rarest and weirdest cases disappear. The more common ones, though, remain and play an important part in making the classifier more “open-minded.”\n",
    "\n",
    "**Imagine this as a group of people who reach a consensus by discarding their most extreme views.** In the human world, it doesn’t always work that well, but decision trees are more dovish creatures.\n",
    "\n",
    "We’ve already seen that tree classifier variety is a rather desirable feature. If we had multiple datasets from multiple sources, we could make our trees even more skewed. But how do we do that with only one dataset available?\n",
    "\n",
    "That’s where the idea of **bagging (or bootstrap aggregating)** comes to the rescue.\n",
    "\n",
    "Let’s say you have 1,000 samples in your training set. You want to create 25 new training sets to train 25 different decision trees. What you do is simply **pick 1,000 samples at random** (with replacements) from your training set (bag).\n",
    "\n",
    "In the new training set, some samples from the original set will appear more than once, while some won’t appear at all. If you repeat this procedure 25 times, you’ll have 25 different training sets for building your trees. To get the final prediction of an ensemble, you just pick the most common output of all trees.\n",
    "\n",
    "You may also use probabilities of classes instead of just labels. You can take them from a distribution of class representatives in final tree node (leaf). Using this approach, your model will favor more reliable trees, which is only reasonable.\n",
    "\n",
    "But the random forest is more than just bagging trees. There is another trick to make individual trees even more diverse. You can **randomly limit the set of features available** when splitting a node.\n",
    "\n",
    "This way, each time when a tree tries to find an optimal decision boundary, it “sees” a subset of all features. This draw takes place each time a node is split. A common measure is to randomly take sqrt(n) or log2(n) features to make a split where n is the original number of features.\n",
    "\n",
    "Long story short: **take a lot of different trees and stack their results; the least popular cases will fall by the wayside, while the more common ones will grow in strength.**\n"
   ]
  },
  {
   "cell_type": "markdown",
   "metadata": {},
   "source": [
    "### AdaBoost"
   ]
  },
  {
   "cell_type": "markdown",
   "metadata": {},
   "source": [
    "There is another family of ensembling methods called **boosting.** It tackles the problem of stacking a great deal of classifiers from the other side.\n",
    "\n",
    "This time, we’ll use multiple weak learners, which is only a slight improvement over random guessing. Again, cooperative deciding makes it powerful, since individual classifiers often are too primitive. However, if there is a sufficient number of them, frequent insights can be treated as valuable. **Such an approach helps us reduce general bias using many high-bias models.**\n",
    "\n",
    "The trees making up the AdaBoost ensemble are created sequentially. Once a tree is trained, it remains untouched for the remainder of the ensemble training. New classifiers are trained to reduce the number of errors made in previous models.\n",
    "\n",
    "The trees used in AdaBoost are shallow; they are called “decision stumps” and frequently only have 2 leaves. Using trees as base learners is not required by the AdaBoost algorithm, but it’s the most common practice.\n",
    "\n",
    "When creating an AdaBoost model, all training samples have weights assigned to them. Initially, all weights are the same and equal 1/N, where N is the number of samples.\n",
    "\n",
    "After training one tree, the weights of wrongly classified samples are increased. A dataset with updated weights then serves as an input to another tree from the ensemble.\n",
    "\n",
    "**This procedure is repeated until adding a new tree results in reducing training error.** Alternatively, the training can stop once the maximum number of trees is reached.\n",
    "\n",
    "Output prediction is the weighted average of predictions from shallow trees; classifier weights are their training accuracies. If you want the exact formulas used in AdaBoost, I highly recommend this [blog post from Jason Brownlee](https://machinelearningmastery.com/boosting-and-adaboost-for-machine-learning/). \n",
    "\n",
    "The takeaway for you is this: **build small trees, one by one, and focus on past mistakes.**"
   ]
  },
  {
   "cell_type": "markdown",
   "metadata": {},
   "source": [
    "### Gradient Tree Boosting"
   ]
  },
  {
   "cell_type": "markdown",
   "metadata": {},
   "source": [
    "Gradient tree boosting is the next member of the algorithm boosting family.\n",
    "\n",
    "Similarly to AdaBoost, gradient tree boosting is built from a set of small trees, though usually **slightly deeper than decision stumps.** The trees are trained sequentially, just like in AdaBoost, but **the training of individual trees is not the same.**\n",
    "\n",
    "The trees making up gradient tree boosting are [regression trees](http://scikit-learn.org/stable/auto_examples/tree/plot_tree_regression.html). They are very similar to the classification trees described earlier, with one key difference: they are trained to output a real number instead of a label for each sample.\n",
    "\n",
    "They put into leaf samples with similar (ideally identical) real values bound to them. **The output value from a given leaf is the mean of all the samples that get there during training.**\n",
    "\n",
    "In the case of gradient boosting, each class has its own regression tree. A trained tree outputs a probability that a given sample belongs to this class. The values used for training are of course 1 and 0 only, and a perfectly trained tree will output only these values.\n",
    "\n",
    "In real life, when some training sample falls into the wrong leaf, outputs will fall between 1 and 0. Note that for binary classification, there’s no need to have a separate tree for each class. One tree is enough, since low-probability outputs mean that the samples belong to the other class.\n",
    "\n",
    "**The main idea behind the algorithm is to iteratively find new trees that minimize loss function—a measure of telling how bad the model is.** This function has to be differentiable, and it’s selected based on the problem that needs solving.\n",
    "\n",
    "For classification it is usually log loss, that is just negative mean of log-probabilities that sample $x_i$ is classified as it’s label $y_i$:\n",
    "\n",
    "$$loss = -\\frac{1}{N}\\sum_{i=1}^{N}{\\log{p(y_i | x_i)}}$$\n",
    "\n",
    "Knowing the loss value, we can calculate the so-called **“pseudo-residuals.”** They are gradients of loss with respect to the predictions from the previous trees. **The greater the residual, the bigger the mistake.** Pseudo-residuals are then used instead of labels when training a new tree.\n",
    "\n",
    "It makes perfect sense, since the new tree will pay more attention to the samples that were completely wrongly classified in the previous trees.\n",
    "\n",
    "Additionally, the tree structure is parameterized. These structure parameters are also optimized during training in order to reduce loss. The impact of the new trees is gradually reduced, so as not to dismiss the previous predictions.\n",
    "\n",
    "If you’re hungry for more math that explains the whole process, I recommend reading [this Wikipedia article](https://en.wikipedia.org/wiki/Gradient_boosting#Algorithm). A true ML geek may also want to take a look at this [whitepaper](https://statweb.stanford.edu/~jhf/ftp/trebst.pdf) by one of the fathers of this method.\n",
    "\n",
    "TL;DR: **gradient tree boosting is similar to AdaBoost, but instead of looking only at where it has failed, it also draws your attention to how much it has failed.**"
   ]
  },
  {
   "cell_type": "markdown",
   "metadata": {},
   "source": [
    "### Dataset"
   ]
  },
  {
   "cell_type": "markdown",
   "metadata": {},
   "source": [
    "To test our algorithms, we’ll use the plain old dataset of Australian Credit Approval.\n",
    "\n",
    "Based on customer features, our model will try to predict whether to accept or reject a credit card application. The original feature names were removed, for the sake of privacy.\n",
    "\n",
    "Since there are only two possible outputs, we’re dealing with binary classification here. You can download the original dataset [here](http://mldata.org/repository/data/viewslug/australian/).\n",
    "\n",
    "To keep things simple, we’ll use a utility function of scikit-learn, `fetch_mldata`. It’s a handy one-liner for downloading datasets from mldata.org. We also shuffle data and split it to train and test the sets for the purpose of evaluating our model on unseen data."
   ]
  },
  {
   "cell_type": "code",
   "execution_count": 4,
   "metadata": {},
   "outputs": [],
   "source": [
    "from sklearn.datasets import fetch_mldata\n",
    "from sklearn.model_selection import train_test_split\n",
    "from sklearn.utils import shuffle\n",
    "\n",
    "DATASET_NAME = \"australian\"\n",
    "TEST_SIZE = 0.2\n",
    "\n",
    "data_bunch = fetch_mldata(DATASET_NAME)\n",
    "features, labels = shuffle(\n",
    "    data_bunch.data,\n",
    "    data_bunch.target,\n",
    "    random_state=RANDOM_STATE\n",
    ")\n",
    "features_train, features_test, labels_train, labels_test = train_test_split(\n",
    "    features, labels, test_size=TEST_SIZE, random_state=RANDOM_STATE)"
   ]
  },
  {
   "cell_type": "markdown",
   "metadata": {},
   "source": [
    "### Ensemble models in Scikit-Learn"
   ]
  },
  {
   "cell_type": "markdown",
   "metadata": {},
   "source": [
    "One of the core principles of Python is, “Simple is better than complex.” The creators of scikit-learn certainly took it to heart.\n",
    "\n",
    "Even though ensemble methods are typically more complicated than single trees, that’s not the case in scikit-learn. The library provides an identical API for training them. You import a proper module, create an object, and train it using the `fit` method. Simple, yet powerful!\n",
    "\n",
    "All the models we’ll be testing here live inside the `sklearn.ensemble` module. In order to always get the same results with the same data, we set `random_state` after creating them."
   ]
  },
  {
   "cell_type": "code",
   "execution_count": 5,
   "metadata": {},
   "outputs": [],
   "source": [
    "from sklearn.ensemble import (\n",
    "    AdaBoostClassifier,\n",
    "    GradientBoostingClassifier,\n",
    "    RandomForestClassifier\n",
    ")\n",
    "\n",
    "models = [\n",
    "    RandomForestClassifier(random_state=RANDOM_STATE),\n",
    "    AdaBoostClassifier(random_state=RANDOM_STATE),\n",
    "    GradientBoostingClassifier(random_state=RANDOM_STATE)\n",
    "]"
   ]
  },
  {
   "cell_type": "markdown",
   "metadata": {},
   "source": [
    "### Results"
   ]
  },
  {
   "cell_type": "markdown",
   "metadata": {},
   "source": [
    "Now, let’s check the accuracy of all three models. By “accuracy,” I’m referring to the rate of correctly labeled samples. We will then put it into Panda’s `DataFrame` and see how our models perform."
   ]
  },
  {
   "cell_type": "code",
   "execution_count": 6,
   "metadata": {},
   "outputs": [
    {
     "data": {
      "text/html": [
       "<div>\n",
       "<style scoped>\n",
       "    .dataframe tbody tr th:only-of-type {\n",
       "        vertical-align: middle;\n",
       "    }\n",
       "\n",
       "    .dataframe tbody tr th {\n",
       "        vertical-align: top;\n",
       "    }\n",
       "\n",
       "    .dataframe thead th {\n",
       "        text-align: right;\n",
       "    }\n",
       "</style>\n",
       "<table border=\"1\" class=\"dataframe\">\n",
       "  <thead>\n",
       "    <tr style=\"text-align: right;\">\n",
       "      <th></th>\n",
       "      <th>RandomForestClassifier</th>\n",
       "      <th>AdaBoostClassifier</th>\n",
       "      <th>GradientBoostingClassifier</th>\n",
       "    </tr>\n",
       "  </thead>\n",
       "  <tbody>\n",
       "    <tr>\n",
       "      <th>Train accuracy</th>\n",
       "      <td>0.992754</td>\n",
       "      <td>0.900362</td>\n",
       "      <td>0.969203</td>\n",
       "    </tr>\n",
       "    <tr>\n",
       "      <th>Test accuracy</th>\n",
       "      <td>0.876812</td>\n",
       "      <td>0.847826</td>\n",
       "      <td>0.898551</td>\n",
       "    </tr>\n",
       "  </tbody>\n",
       "</table>\n",
       "</div>"
      ],
      "text/plain": [
       "                RandomForestClassifier  AdaBoostClassifier  \\\n",
       "Train accuracy                0.992754            0.900362   \n",
       "Test accuracy                 0.876812            0.847826   \n",
       "\n",
       "                GradientBoostingClassifier  \n",
       "Train accuracy                    0.969203  \n",
       "Test accuracy                     0.898551  "
      ]
     },
     "execution_count": 6,
     "metadata": {},
     "output_type": "execute_result"
    }
   ],
   "source": [
    "import pandas as pd\n",
    "\n",
    "TRAIN_SCORES_ROW = \"Train accuracy\"\n",
    "TEST_SCORES_ROW = \"Test accuracy\"\n",
    "\n",
    "def evaluate_models(models, model_names=None):\n",
    "    if not model_names:\n",
    "        model_names = [type(model).__name__ for model in models]\n",
    "        \n",
    "    scores = pd.DataFrame(index=[TRAIN_SCORES_ROW, TEST_SCORES_ROW])\n",
    "    for model, model_name in zip(models, model_names):\n",
    "        model.fit(features_train, labels_train)\n",
    "        scores.at[TRAIN_SCORES_ROW, model_name] = \\\n",
    "            model.score(features_train, labels_train)\n",
    "        scores.at[TEST_SCORES_ROW, model_name] = \\\n",
    "            model.score(features_test, labels_test)\n",
    "    return scores\n",
    "\n",
    "evaluate_models(models)"
   ]
  },
  {
   "cell_type": "markdown",
   "metadata": {},
   "source": [
    "Not bad!\n",
    "\n",
    "As you can see, the random forest and gradient boosting performed almost perfectly on the training set. The results of brand new data are slightly worse, which is to be expected.\n",
    "\n",
    "But there are more metrics worth checking than mere accuracy. Let’s look at the confusion matrix for our best model:"
   ]
  },
  {
   "cell_type": "code",
   "execution_count": 7,
   "metadata": {},
   "outputs": [],
   "source": [
    "best_model = models[2]\n",
    "predictions_train = best_model.predict(features_train)\n",
    "predictions_test = best_model.predict(features_test)"
   ]
  },
  {
   "cell_type": "code",
   "execution_count": 8,
   "metadata": {},
   "outputs": [],
   "source": [
    "from sklearn.metrics import confusion_matrix\n",
    "\n",
    "def confusion_matrix_as_data_frame(labels, predictions):\n",
    "    return pd.DataFrame(\n",
    "        data=confusion_matrix(labels, predictions),\n",
    "        index=[\"Actual rejected\", \"Actual accepted\"],\n",
    "        columns=[\"Predicted rejected\", \"Predicted accepted\"]\n",
    "    )"
   ]
  },
  {
   "cell_type": "code",
   "execution_count": 9,
   "metadata": {},
   "outputs": [
    {
     "data": {
      "text/html": [
       "<div>\n",
       "<style scoped>\n",
       "    .dataframe tbody tr th:only-of-type {\n",
       "        vertical-align: middle;\n",
       "    }\n",
       "\n",
       "    .dataframe tbody tr th {\n",
       "        vertical-align: top;\n",
       "    }\n",
       "\n",
       "    .dataframe thead th {\n",
       "        text-align: right;\n",
       "    }\n",
       "</style>\n",
       "<table border=\"1\" class=\"dataframe\">\n",
       "  <thead>\n",
       "    <tr style=\"text-align: right;\">\n",
       "      <th></th>\n",
       "      <th>Predicted rejected</th>\n",
       "      <th>Predicted accepted</th>\n",
       "    </tr>\n",
       "  </thead>\n",
       "  <tbody>\n",
       "    <tr>\n",
       "      <th>Actual rejected</th>\n",
       "      <td>295</td>\n",
       "      <td>10</td>\n",
       "    </tr>\n",
       "    <tr>\n",
       "      <th>Actual accepted</th>\n",
       "      <td>7</td>\n",
       "      <td>240</td>\n",
       "    </tr>\n",
       "  </tbody>\n",
       "</table>\n",
       "</div>"
      ],
      "text/plain": [
       "                 Predicted rejected  Predicted accepted\n",
       "Actual rejected                 295                  10\n",
       "Actual accepted                   7                 240"
      ]
     },
     "execution_count": 9,
     "metadata": {},
     "output_type": "execute_result"
    }
   ],
   "source": [
    "confusion_matrix_as_data_frame(labels_train, predictions_train)"
   ]
  },
  {
   "cell_type": "code",
   "execution_count": 10,
   "metadata": {},
   "outputs": [
    {
     "data": {
      "text/html": [
       "<div>\n",
       "<style scoped>\n",
       "    .dataframe tbody tr th:only-of-type {\n",
       "        vertical-align: middle;\n",
       "    }\n",
       "\n",
       "    .dataframe tbody tr th {\n",
       "        vertical-align: top;\n",
       "    }\n",
       "\n",
       "    .dataframe thead th {\n",
       "        text-align: right;\n",
       "    }\n",
       "</style>\n",
       "<table border=\"1\" class=\"dataframe\">\n",
       "  <thead>\n",
       "    <tr style=\"text-align: right;\">\n",
       "      <th></th>\n",
       "      <th>Predicted rejected</th>\n",
       "      <th>Predicted accepted</th>\n",
       "    </tr>\n",
       "  </thead>\n",
       "  <tbody>\n",
       "    <tr>\n",
       "      <th>Actual rejected</th>\n",
       "      <td>70</td>\n",
       "      <td>8</td>\n",
       "    </tr>\n",
       "    <tr>\n",
       "      <th>Actual accepted</th>\n",
       "      <td>6</td>\n",
       "      <td>54</td>\n",
       "    </tr>\n",
       "  </tbody>\n",
       "</table>\n",
       "</div>"
      ],
      "text/plain": [
       "                 Predicted rejected  Predicted accepted\n",
       "Actual rejected                  70                   8\n",
       "Actual accepted                   6                  54"
      ]
     },
     "execution_count": 10,
     "metadata": {},
     "output_type": "execute_result"
    }
   ],
   "source": [
    "confusion_matrix_as_data_frame(labels_test, predictions_test)"
   ]
  },
  {
   "cell_type": "markdown",
   "metadata": {},
   "source": [
    "The confusion matrix illustrates where our model has failed.\n",
    "\n",
    "For example, we can see that the gradient boosting model has decided to accept 8 credit card requests that should not have been accepted.\n",
    "\n",
    "Using values from the confusion matrix, we can calculate the number of useful metrics, such as **precision** or **recall.** I encourage you to get familiar with [get familiar with them]((https://en.wikipedia.org/wiki/Confusion_matrix)), if you aren’t already."
   ]
  },
  {
   "cell_type": "markdown",
   "metadata": {},
   "source": [
    "### Model tuning: Introducing hyperparameters"
   ]
  },
  {
   "cell_type": "markdown",
   "metadata": {},
   "source": [
    "**Hyperparameters are parts of the model chosen explicitly instead of being set during training.** They differ between models and should be used carefully. Scikit-learn defaults are reasonable, but there is frequently some room left for improvement.\n",
    "\n",
    "**To get the most out of ML models, they shouldn’t be treated as magic black boxes.** They have many “knobs” you can tweak to make them better. A high-level understanding of how they work allows you to do so.\n",
    "\n",
    "Let’s describe the most important hyperparameters for our three models:\n",
    "\n",
    "* **Number of trees**\n",
    "\n",
    "Undoubtedly crucial, if not the most important hyperparameter. It’s available for all three algorithms. Generally, the more trees are used in an ensemble the better, but it’s not a one-size-fits-all solution.\n",
    "\n",
    "**Boosting algorithms can overfit when too many models are used. Using more trees also leads to longer training and prediction time.**\n",
    "\n",
    "The number of trees can be set via the constructor (like all the other hyperparameters) using the `n_estimators` keyword.\n",
    "\n",
    "* **Tree size**\n",
    "\n",
    "We don’t want our trees to be overly complicated. Naturally, random forests rely on high-variance trees, but still, enough is as good as a feast (e.g. due to time constraints).\n",
    "\n",
    "On the other hand, boosting algorithms needs shallow trees, maybe even stumps. It feels like we should have the power to control it. Luckily, scikit-learn allows us to do it in various ways:\n",
    "\n",
    "Firstly, we can set the maximum tree depth (`max_depth`).\n",
    "\n",
    "Secondly, the maximum number of leaf nodes (`max_leaf_nodes`).\n",
    "\n",
    "Lastly, the minimum number of samples needed to perform a split in a node (`min_samples_split`).\n",
    "\n",
    "The former two are recommended for use with boosting, while the latter one is especially useful with random forests. When using AdaBoost, they can’t be set directly via the constructor, so you need to specify them in the constructor of the `base_estimator` object.\n",
    "\n",
    "* **Learning rate**\n",
    "\n",
    "It’s present only in boosting methods and defines the shrinkage rate of each newly added tree. In other words, it’s the factor that every tree contribution is multiplied by.\n",
    "\n",
    "Learning rate has a deep correlation to the number of trees. **Using a smaller learning rate forces you to use a higher number of trees.** In both boosting methods we’ve described, its value is set via the `learning_rate` keyword. The value of this little fella should be between 0 and 1.\n",
    "\n",
    "* **Subsampling**\n",
    "\n",
    "**Subsampling controls the feature subset size to pick when splitting a node.** It’s an essential hyperparameter for random forests that can also play a significant regulating role in gradient tree boosting. The keyword for this hyperparameter is `max_features.`\n",
    "\n",
    "You can use a float (fraction) or an integer (exact value) to decide how many features to pick. It may also be a string: `\"sqrt\"`, `\"log2\"`, or `\"auto\"`. The first two are self-explanatory, while `\"auto\"` is the same as `\"sqrt\"`.\n",
    "\n",
    "Moreover, `GradientBoostingClassifier` supports the `subsample` keyword. It’s a float telling us what fraction of all the samples will be used to train single tree. **Setting it to a value lower than 1.0 can reduce variance and lead to better results.**"
   ]
  },
  {
   "cell_type": "markdown",
   "metadata": {},
   "source": [
    "### Hyperparameters search"
   ]
  },
  {
   "cell_type": "markdown",
   "metadata": {},
   "source": [
    "There are many different approaches for searching the best hyperparameters. Since the number of trees is the deciding factor, strongly connected to the learning rate, these are the two we will start with.\n",
    "\n",
    "We will train boosting algorithms with a large number of trees. In this example, 300 is considered large, but for harder tasks, it could be thousands. We will try different learning rate values during training to choose the best pair.\n",
    "\n",
    "Before we begin the training, we will extract a so-called “validation set” from our training set.\n",
    "\n",
    "**What is the purpose of a validation set?**\n",
    "\n",
    "We want to keep adding new trees for as long as doing so improves the quality primarily on the test set and not just the training set. To avoid overfitting on the actual test set, we extract a validation set from our training set. This way we can observe when our algorithm (trained on the cut version of the training set) starts to overfit.\n",
    "\n",
    "**Overfitting starts at the point where training accuracy goes up, but validation accuracy no longer improves.** We can then assume that similar behavior will occur on full training and test sets.\n",
    "\n",
    "You will see for yourself what I’m talking about soon enough. For now, let’s start with extracting the validation set from our training set:"
   ]
  },
  {
   "cell_type": "code",
   "execution_count": 11,
   "metadata": {},
   "outputs": [],
   "source": [
    "features_train_, features_valid, labels_train_, labels_valid = train_test_split(\n",
    "    features_train, labels_train, test_size=TEST_SIZE, random_state=RANDOM_STATE)"
   ]
  },
  {
   "cell_type": "markdown",
   "metadata": {},
   "source": [
    "Afterwards, we define a function that will take a boosting model and list the learning rates to test.\n",
    "\n",
    "It fits an ensemble consisting of many trees with different learning rates and calculates accuracy on every step of adding a tree to an ensemble.\n",
    "\n",
    "The process is easy, since the boosting algorithms use the `staged_predict` method. This method produces outputs given by intermediate models.\n",
    "\n",
    "$N$-nth staged prediction will be the output after we first use $N$ trees. On the output, we get Panda’s `DataFrame`. Its rows correspond to given learning rates, while the columns stand for training and the valid set. Each cell contains a list with accuracies of intermediate models."
   ]
  },
  {
   "cell_type": "code",
   "execution_count": 12,
   "metadata": {
    "scrolled": false
   },
   "outputs": [],
   "source": [
    "from sklearn.metrics import accuracy_score\n",
    "\n",
    "N_TREES = 300\n",
    "TRAINING_COLUMN = \"training\"\n",
    "VALIDATION_COLUMN = \"validation\"\n",
    "\n",
    "\n",
    "def get_staged_accuracies(model_class, learning_rates):\n",
    "    staged_accuracies = pd.DataFrame(\n",
    "        columns=[TRAINING_COLUMN, VALIDATION_COLUMN]\n",
    "    )\n",
    "    for learning_rate, color in zip(learning_rates, COLORS):\n",
    "        model = model_class(\n",
    "            n_estimators=N_TREES,\n",
    "            learning_rate=learning_rate,\n",
    "            random_state=RANDOM_STATE\n",
    "        )\n",
    "        model.fit(features_train_, labels_train_)\n",
    "        predictions_train = model.staged_predict(features_train_)\n",
    "        predictions_valid = model.staged_predict(features_valid)\n",
    "        staged_accuracies.at[learning_rate, TRAINING_COLUMN] = [\n",
    "            accuracy_score(labels_train_, prediction)\n",
    "            for prediction in predictions_train\n",
    "        ]\n",
    "        staged_accuracies.at[learning_rate, VALIDATION_COLUMN] = [\n",
    "            accuracy_score(labels_valid, prediction)\n",
    "            for prediction in predictions_valid\n",
    "        ]\n",
    "    return staged_accuracies"
   ]
  },
  {
   "cell_type": "markdown",
   "metadata": {},
   "source": [
    "The function below is rather self-explanatory.\n",
    "\n",
    "Given the accuracies `DataFrame` from the function above, it returns a tuple of the highest accuracy, along with the corresponding number of trees and learning rate."
   ]
  },
  {
   "cell_type": "code",
   "execution_count": 13,
   "metadata": {},
   "outputs": [],
   "source": [
    "def get_best_params(staged_accuracies):\n",
    "    best_params_all_lrs = [] \n",
    "    for learning_rate, accuracies in staged_accuracies.iterrows():\n",
    "        accuracies_valid = accuracies[VALIDATION_COLUMN]\n",
    "        best_n_trees, best_accuracy = max(\n",
    "            enumerate(accuracies_valid, start=1),\n",
    "            key=lambda x: x[1]\n",
    "        )\n",
    "        best_params_all_lrs.append(\n",
    "            (best_accuracy, best_n_trees, learning_rate)\n",
    "        )\n",
    "    \n",
    "    # Get set of params with highest accuracy and pick one\n",
    "    # with less trees when draw occurs\n",
    "    best_params = max(best_params_all_lrs, key=lambda x: (x[0], -x[1]))\n",
    "    return best_params"
   ]
  },
  {
   "cell_type": "markdown",
   "metadata": {},
   "source": [
    "Finally, we define a function to plot the results of our hyperparameter search."
   ]
  },
  {
   "cell_type": "code",
   "execution_count": 14,
   "metadata": {},
   "outputs": [],
   "source": [
    "def plot_accuracies(staged_accuracies, title, colors=(\"r\", \"g\", \"b\")):\n",
    "    for (learning_rate, accuracies), color in zip(staged_accuracies.iterrows(), colors):\n",
    "        plt.plot(\n",
    "            staged_accuracies.at[learning_rate, TRAINING_COLUMN],\n",
    "            linestyle=\"--\",\n",
    "            color=color,\n",
    "            label=\"Train accuracy, LR: {}\".format(learning_rate)\n",
    "        )\n",
    "        plt.plot(\n",
    "            staged_accuracies.at[learning_rate, VALIDATION_COLUMN],\n",
    "            color=color,\n",
    "            label=\"Valid accuracy, LR: {}\".format(learning_rate)\n",
    "        )\n",
    "        plt.title(title)\n",
    "        plt.xlabel(\"Number of trees\")\n",
    "        plt.ylabel(\"Accuracy\")\n",
    "        plt.legend()\n",
    "    plt.show()"
   ]
  },
  {
   "cell_type": "markdown",
   "metadata": {},
   "source": [
    "Usually, learning rates that are worth trying fall below 0.1. However, since we’re dealing with a small dataset, we may not need hundreds of trees.\n",
    "\n",
    "A small number of trees often requires a higher learning rate, so we will also try a bigger one (0.5).\n",
    "\n",
    "Moreover, let’s make our matplotlib’s plots a little wider for readability."
   ]
  },
  {
   "cell_type": "code",
   "execution_count": 15,
   "metadata": {},
   "outputs": [
    {
     "name": "stdout",
     "output_type": "stream",
     "text": [
      "Gradient Boosting: best valid accuracy=0.8648648648648649with 152 trees and learning rate=0.1\n"
     ]
    },
    {
     "data": {
      "image/png": "[encoded data removed]",
      "text/plain": [
       "<Figure size 1152x288 with 1 Axes>"
      ]
     },
     "metadata": {},
     "output_type": "display_data"
    }
   ],
   "source": [
    "wide_fig_size = (16, 4)\n",
    "plt.rcParams[\"figure.figsize\"] = wide_fig_size\n",
    "\n",
    "staged_accuracies_gb = get_staged_accuracies(\n",
    "    GradientBoostingClassifier,\n",
    "    learning_rates=[0.01, 0.1, 0.5]\n",
    ")\n",
    "accuracy_gb, n_trees_gb, lr_gb = get_best_params(staged_accuracies_gb)\n",
    "print(\n",
    "    \"Gradient Boosting: best valid accuracy={}\"\n",
    "    \"with {} trees and learning rate={}\"\n",
    "    .format(accuracy_gb, n_trees_gb, lr_gb)\n",
    ")\n",
    "plot_accuracies(staged_accuracies_gb, title=\"Gradient Boosting\")\n"
   ]
  },
  {
   "cell_type": "markdown",
   "metadata": {},
   "source": [
    "As suspected, we won’t be needing all 300 trees to perform well. 152 base models with a learning rate of 0.1 will do the trick.\n",
    "\n",
    "We will also call this function on an AdaBoost model. Remember that it usually favors learning rates that are slightly higher."
   ]
  },
  {
   "cell_type": "code",
   "execution_count": 16,
   "metadata": {},
   "outputs": [
    {
     "name": "stdout",
     "output_type": "stream",
     "text": [
      "AdaBoost: best valid accuracy=0.8918918918918919with 39 trees and learning rate=0.8\n"
     ]
    },
    {
     "data": {
      "image/png": "[encoded data removed]",
      "text/plain": [
       "<Figure size 1152x288 with 1 Axes>"
      ]
     },
     "metadata": {},
     "output_type": "display_data"
    }
   ],
   "source": [
    "staged_accuracies_ab = get_staged_accuracies(\n",
    "    AdaBoostClassifier,\n",
    "    learning_rates=[0.5, 0.8, 1.0]\n",
    ")\n",
    "accuracy_ab, n_trees_ab, lr_ab = get_best_params(staged_accuracies_ab)\n",
    "print(\n",
    "    \"AdaBoost: best valid accuracy={}\"\n",
    "    \"with {} trees and learning rate={}\"\n",
    "    .format(accuracy_ab, n_trees_ab, lr_ab)\n",
    ")\n",
    "plot_accuracies(staged_accuracies_ab, title=\"AdaBoost\")"
   ]
  },
  {
   "cell_type": "markdown",
   "metadata": {},
   "source": [
    "We’ve got an optimal number of trees and learning rate, so now it’s high time we tuned the other hyperparameters. Let’s once again turn to our awesome Python and scikit-learn tandem to do the trick.\n",
    "\n",
    "There are plenty of different suggested recommendations on picking the right parameters. We’ll use a set of potentially good parameters from the table available [here](https://machinelearningmastery.com/configure-gradient-boosting-algorithm/).\n",
    "\n",
    "We’ll perform a so-called “grid search,” meaning we’ll try every possible combination of these parameters, and pick the one that performs best.\n",
    "\n",
    "During the grid search, [cross-validation](http://www.ritchieng.com/machine-learning-cross-validation/) is performed. At first, a training set is divided into $n$ even parts (defined by the `cv` keyword). Then there are $n$ turns when one part is used as a validation set and the rest is used as training set.\n",
    "\n",
    "After $n$ validation turns, a mean score (e.g. accuracy) is computed, so the best model can be picked. Scikit-learn provides a handy API to do so. We can get the best-performing model retrained on a full training set easily.\n",
    "\n",
    "Note: this code may take a bit longer (up to 90 seconds). If you are impatient, delete some values to minimize the number of combinations (e.g. the maximum values for `max_depth` and `max_features`)."
   ]
  },
  {
   "cell_type": "code",
   "execution_count": 17,
   "metadata": {
    "scrolled": false
   },
   "outputs": [],
   "source": [
    "from sklearn.model_selection import GridSearchCV\n",
    "\n",
    "NUM_FOLDS = 5\n",
    "\n",
    "gradient_boosting_params = {\n",
    "    \"n_estimators\": [152],\n",
    "    \"learning_rate\": [0.1],\n",
    "    \"max_depth\": [4, 6, 8, 10],\n",
    "    \"subsample\": [0.4, 0.6, 0.8, 1.0],\n",
    "    \"max_features\": [0.5, 0.75, 1.0]\n",
    "}\n",
    "\n",
    "random_search = GridSearchCV(\n",
    "    estimator=GradientBoostingClassifier(\n",
    "        random_state=RANDOM_STATE\n",
    "    ),\n",
    "    param_grid=gradient_boosting_params,\n",
    "    cv=NUM_FOLDS\n",
    ")\n",
    "random_search.fit(features_train, labels_train)\n",
    "best_gb_model = random_search.best_estimator_\n",
    "best_gb_params = random_search.best_params_"
   ]
  },
  {
   "cell_type": "code",
   "execution_count": 18,
   "metadata": {
    "scrolled": true
   },
   "outputs": [
    {
     "data": {
      "text/plain": [
       "{'learning_rate': 0.1,\n",
       " 'max_depth': 6,\n",
       " 'max_features': 0.75,\n",
       " 'n_estimators': 152,\n",
       " 'subsample': 1.0}"
      ]
     },
     "execution_count": 18,
     "metadata": {},
     "output_type": "execute_result"
    }
   ],
   "source": [
    "best_gb_params"
   ]
  },
  {
   "cell_type": "markdown",
   "metadata": {},
   "source": [
    "To up the ante, we’ll leave evaluating the accuracy of our tuned model for later. First, let’s tune the random forest and AdaBoost.\n",
    "\n",
    "If you don’t have such a table with hyperparameters at our disposal, or it just completely fails on your data, there is an alternative: **random search.**\n",
    "\n",
    "This algorithm is trivial. You just define search ranges, then randomly pick several sets of parameters. What’s more, it can even give you better results than the grid search!\n",
    "\n",
    "At first, this may sound strange, but just look at the image below, taken from this [this paper](http://www.jmlr.org/papers/volume13/bergstra12a/bergstra12a.pdf). The green curve at the top and the yellow one to the left are functions of accuracy in each instance.\n",
    "\n",
    "The grid search ensures even coverage of this two-dimensional space, yet it covers only three points on each hyperparameter space. When we use random search, we get much better search coverage of each individual hyperparameter. It is especially useful when a given metric function has evident peaks with respect to certain hyperparameters."
   ]
  },
  {
   "cell_type": "markdown",
   "metadata": {},
   "source": [
    "<img src=\"http://cs231n.github.io/assets/nn3/gridsearchbad.jpeg\" alt=\"Drawing\" style=\"width: 500px;\"/>"
   ]
  },
  {
   "cell_type": "markdown",
   "metadata": {},
   "source": [
    "Now, let’s define the ranges of interest for the remaining classifiers, and number of random trials (equal to the combinations in the previous grid search)."
   ]
  },
  {
   "cell_type": "code",
   "execution_count": 19,
   "metadata": {},
   "outputs": [],
   "source": [
    "from functools import reduce\n",
    "from operator import mul\n",
    "\n",
    "random_trials = reduce(\n",
    "    mul,\n",
    "    (\n",
    "        len(values)\n",
    "        for _, values in gradient_boosting_params.items()\n",
    "    )\n",
    ")\n",
    "\n",
    "random_forest_params = {\n",
    "    \"n_estimators\": range(5, 500),\n",
    "    \"min_samples_split\": range(2, 50),\n",
    "    \"max_features\": [x / 10 for x in range(1, 11)]\n",
    "}\n",
    "\n",
    "adaboost_params = {\n",
    "    \"n_estimators\": range(25, 50),\n",
    "    \"learning_rate\": [x / 100 for x in range(80, 101)],\n",
    "    \"base_estimator__max_depth\": range(1, 3),   \n",
    "}"
   ]
  },
  {
   "cell_type": "markdown",
   "metadata": {},
   "source": [
    "Let’s also define a function to retrieve the best model based on random search."
   ]
  },
  {
   "cell_type": "code",
   "execution_count": 20,
   "metadata": {},
   "outputs": [],
   "source": [
    "from sklearn.model_selection import RandomizedSearchCV\n",
    "\n",
    "def find_best_model_random_search(model, params):\n",
    "    random_search = RandomizedSearchCV(\n",
    "        estimator=model,\n",
    "        param_distributions=params,\n",
    "        n_iter=random_trials,\n",
    "        cv=NUM_FOLDS,\n",
    "        random_state=RANDOM_STATE\n",
    "    )\n",
    "    random_search.fit(features_train, labels_train)\n",
    "    return random_search.best_estimator_"
   ]
  },
  {
   "cell_type": "markdown",
   "metadata": {},
   "source": [
    "Finally, let’s find the best hyperparameters for the random forest and AdaBoost. Then, we’ll compare those with gradient boosting.\n",
    "\n",
    "Note that we have to define the AdaBoost base model in order to tinker with its parameters.\n",
    "\n",
    "Again, the hyperparameter search can take some time (up to 170 seconds), so be patient when you run it."
   ]
  },
  {
   "cell_type": "code",
   "execution_count": 21,
   "metadata": {},
   "outputs": [
    {
     "data": {
      "text/html": [
       "<div>\n",
       "<style scoped>\n",
       "    .dataframe tbody tr th:only-of-type {\n",
       "        vertical-align: middle;\n",
       "    }\n",
       "\n",
       "    .dataframe tbody tr th {\n",
       "        vertical-align: top;\n",
       "    }\n",
       "\n",
       "    .dataframe thead th {\n",
       "        text-align: right;\n",
       "    }\n",
       "</style>\n",
       "<table border=\"1\" class=\"dataframe\">\n",
       "  <thead>\n",
       "    <tr style=\"text-align: right;\">\n",
       "      <th></th>\n",
       "      <th>RandomForestClassifier</th>\n",
       "      <th>AdaBoostClassifier</th>\n",
       "      <th>GradientBoostingClassifier</th>\n",
       "    </tr>\n",
       "  </thead>\n",
       "  <tbody>\n",
       "    <tr>\n",
       "      <th>Train accuracy</th>\n",
       "      <td>0.956522</td>\n",
       "      <td>0.896739</td>\n",
       "      <td>1.000000</td>\n",
       "    </tr>\n",
       "    <tr>\n",
       "      <th>Test accuracy</th>\n",
       "      <td>0.884058</td>\n",
       "      <td>0.869565</td>\n",
       "      <td>0.905797</td>\n",
       "    </tr>\n",
       "  </tbody>\n",
       "</table>\n",
       "</div>"
      ],
      "text/plain": [
       "                RandomForestClassifier  AdaBoostClassifier  \\\n",
       "Train accuracy                0.956522            0.896739   \n",
       "Test accuracy                 0.884058            0.869565   \n",
       "\n",
       "                GradientBoostingClassifier  \n",
       "Train accuracy                    1.000000  \n",
       "Test accuracy                     0.905797  "
      ]
     },
     "execution_count": 21,
     "metadata": {},
     "output_type": "execute_result"
    }
   ],
   "source": [
    "best_rf_model = find_best_model_random_search(\n",
    "    model=RandomForestClassifier(\n",
    "        random_state=RANDOM_STATE\n",
    "    ),\n",
    "    params=random_forest_params\n",
    ")\n",
    "best_ab_model = find_best_model_random_search(\n",
    "    model=AdaBoostClassifier(\n",
    "        DecisionTreeClassifier(),\n",
    "        random_state=RANDOM_STATE\n",
    "    ),\n",
    "    params=adaboost_params\n",
    ")\n",
    "                         \n",
    "evaluate_models([best_rf_model, best_ab_model, best_gb_model])"
   ]
  },
  {
   "cell_type": "markdown",
   "metadata": {},
   "source": [
    "Hooray! We have slight improvements on each of our classifiers.\n",
    "\n",
    "You can, of course, try different hyperameter ranges or use random search with gradient boosting. Plus, let’s not forget that there are many more parameters you can tune.\n",
    "\n",
    "But I’d argue that these are the ones you should start with. They represent different aspects of our models and are rather easy to interpret.\n",
    "\n",
    "There is also a somewhat smarter way to do hyperparameter search. It uses Bayesian optimization, and as an added bonus allows you to [use scikit-learn for implementation](https://thuijskens.github.io/2016/12/29/bayesian-optimisation/). The topic is outside the scope of this text, so I’ll leave it at that, but it’s definitely something worth exploring.\n",
    "\n"
   ]
  },
  {
   "cell_type": "markdown",
   "metadata": {},
   "source": [
    "### Summary"
   ]
  },
  {
   "cell_type": "markdown",
   "metadata": {},
   "source": [
    "After reading this article, you should have some high-level understanding of ensembling methods. Also, I hope you’ll agree that using scikit-learn for implementation is quite fun!\n",
    "\n",
    "Here’s a quick recap of what we’ve learned:\n",
    "\n",
    "* **Decision trees are high-variance models, but we can fix this issue by using ensembles.**\n",
    "* **Two main groups of ensembling methods are bagging (random forests) and boosting (AdaBoost and gradient tree boosting).**\n",
    "* **Scikit-learn provides an easy API to train ensemble models with reasonable out-of-the-box quality.**\n",
    "* **A little bit of digging into model hyperparameters can help us improve our models.**\n",
    "\n",
    "Should this post inspire you to take a deep dive into the vast world of machine learning in Python, make sure to check out the links I’ve left for you throughout the text. I found them very useful and helpful while I was putting this piece together.\n",
    "\n",
    "But if you’re new to the machine learning game and looking for a place to start, [look no further than this tutorial](https://stxnext.com/blog/2017/12/12/getting-started-machine-learning-python/) by two of my colleagues and ML experts at STX Next. They cover everything you need to begin your ML adventure in Python."
   ]
  }
 ],
 "metadata": {
  "kernelspec": {
   "display_name": "Python 3",
   "language": "python",
   "name": "python3"
  },
  "language_info": {
   "codemirror_mode": {
    "name": "ipython",
    "version": 3
   },
   "file_extension": ".py",
   "mimetype": "text/x-python",
   "name": "python",
   "nbconvert_exporter": "python",
   "pygments_lexer": "ipython3",
   "version": "3.6.5"
  }
 },
 "nbformat": 4,
 "nbformat_minor": 2
}
